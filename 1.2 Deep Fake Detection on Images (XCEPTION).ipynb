{
 "cells": [
  {
   "cell_type": "markdown",
   "metadata": {},
   "source": [
    "# Enhancing Deep Fake Detection in Multimedia: A Fusion of CNN and RNN Approaches"
   ]
  },
  {
   "cell_type": "markdown",
   "metadata": {},
   "source": [
    "## 1.2 Training the Model using Transfer Learning Approach (Xception)"
   ]
  },
  {
   "cell_type": "markdown",
   "metadata": {},
   "source": [
    "In section 1.2, the utilization of transfer learning is implemented to incorporate the Xception model for the identification of falsely generated media.\n",
    "\n",
    "To obtain references for this specific task, please follow the provided link: https://www.kaggle.com/code/krooz0/deep-fake-detection-on-images-and-videos"
   ]
  },
  {
   "cell_type": "markdown",
   "metadata": {},
   "source": [
    "## Importing the Libraries"
   ]
  },
  {
   "cell_type": "code",
   "execution_count": 1,
   "metadata": {
    "id": "-06ukfuCJQ6e"
   },
   "outputs": [],
   "source": [
    "import cv2\n",
    "import sys\n",
    "import sklearn\n",
    "import numpy as np\n",
    "import pandas as pd\n",
    "import seaborn as sns\n",
    "import tensorflow as tf\n",
    "import plotly.graph_objs as go\n",
    "from plotly.offline import iplot\n",
    "from matplotlib import pyplot as plt\n",
    "from tensorflow.keras.models import Model\n",
    "from tensorflow.keras.callbacks import Callback\n",
    "from tensorflow.keras.applications import Xception\n",
    "from sklearn.model_selection import train_test_split\n",
    "from tensorflow.keras.layers import GlobalAveragePooling2D\n",
    "from tensorflow.keras.layers import Conv2D, MaxPooling2D, Flatten, Dense, Dropout"
   ]
  },
  {
   "cell_type": "markdown",
   "metadata": {},
   "source": [
    "## Path to Dataset"
   ]
  },
  {
   "cell_type": "markdown",
   "metadata": {},
   "source": [
    "The dataset is obtained from Kaggle, and you can access it by visiting the provided link: https://www.kaggle.com/datasets/dagnelies/deepfake-faces\n",
    "\n",
    "The dataset comprises two components: a metadata CSV file and a \"faces_224\" folder. The metadata.csv file contains information about each image within the \"faces_224\" folder, specifically indicating whether an image is classified as \"Real\" or \"Fake.\" The \"videoname\" column in the metadata file lists the names of the images corresponding to the ones in the \"faces_224\" folder. Additionally, the \"label\" column specifies the class to which each image belongs, either \"Fake\" or \"Real.\""
   ]
  },
  {
   "cell_type": "code",
   "execution_count": 2,
   "metadata": {
    "colab": {
     "base_uri": "https://localhost:8080/",
     "height": 206
    },
    "id": "HMIvDlM1Jllk",
    "outputId": "3ca32754-e98b-4355-86bc-1054bdda4309"
   },
   "outputs": [
    {
     "data": {
      "text/html": [
       "\n",
       "  <div id=\"df-125d68c3-5ad6-4111-8899-67f105b4e5e9\" class=\"colab-df-container\">\n",
       "    <div>\n",
       "<style scoped>\n",
       "    .dataframe tbody tr th:only-of-type {\n",
       "        vertical-align: middle;\n",
       "    }\n",
       "\n",
       "    .dataframe tbody tr th {\n",
       "        vertical-align: top;\n",
       "    }\n",
       "\n",
       "    .dataframe thead th {\n",
       "        text-align: right;\n",
       "    }\n",
       "</style>\n",
       "<table border=\"1\" class=\"dataframe\">\n",
       "  <thead>\n",
       "    <tr style=\"text-align: right;\">\n",
       "      <th></th>\n",
       "      <th>videoname</th>\n",
       "      <th>original_width</th>\n",
       "      <th>original_height</th>\n",
       "      <th>label</th>\n",
       "      <th>original</th>\n",
       "    </tr>\n",
       "  </thead>\n",
       "  <tbody>\n",
       "    <tr>\n",
       "      <th>0</th>\n",
       "      <td>aznyksihgl.mp4</td>\n",
       "      <td>129</td>\n",
       "      <td>129</td>\n",
       "      <td>FAKE</td>\n",
       "      <td>xnojggkrxt.mp4</td>\n",
       "    </tr>\n",
       "    <tr>\n",
       "      <th>1</th>\n",
       "      <td>gkwmalrvcj.mp4</td>\n",
       "      <td>129</td>\n",
       "      <td>129</td>\n",
       "      <td>FAKE</td>\n",
       "      <td>hqqmtxvbjj.mp4</td>\n",
       "    </tr>\n",
       "    <tr>\n",
       "      <th>2</th>\n",
       "      <td>lxnqzocgaq.mp4</td>\n",
       "      <td>223</td>\n",
       "      <td>217</td>\n",
       "      <td>FAKE</td>\n",
       "      <td>xjzkfqddyk.mp4</td>\n",
       "    </tr>\n",
       "    <tr>\n",
       "      <th>3</th>\n",
       "      <td>itsbtrrelv.mp4</td>\n",
       "      <td>186</td>\n",
       "      <td>186</td>\n",
       "      <td>FAKE</td>\n",
       "      <td>kqvepwqxfe.mp4</td>\n",
       "    </tr>\n",
       "    <tr>\n",
       "      <th>4</th>\n",
       "      <td>ddvgrczjno.mp4</td>\n",
       "      <td>155</td>\n",
       "      <td>155</td>\n",
       "      <td>FAKE</td>\n",
       "      <td>pluadmqqta.mp4</td>\n",
       "    </tr>\n",
       "  </tbody>\n",
       "</table>\n",
       "</div>\n",
       "    <div class=\"colab-df-buttons\">\n",
       "\n",
       "  <div class=\"colab-df-container\">\n",
       "    <button class=\"colab-df-convert\" onclick=\"convertToInteractive('df-125d68c3-5ad6-4111-8899-67f105b4e5e9')\"\n",
       "            title=\"Convert this dataframe to an interactive table.\"\n",
       "            style=\"display:none;\">\n",
       "\n",
       "  <svg xmlns=\"http://www.w3.org/2000/svg\" height=\"24px\" viewBox=\"0 -960 960 960\">\n",
       "    <path d=\"M120-120v-720h720v720H120Zm60-500h600v-160H180v160Zm220 220h160v-160H400v160Zm0 220h160v-160H400v160ZM180-400h160v-160H180v160Zm440 0h160v-160H620v160ZM180-180h160v-160H180v160Zm440 0h160v-160H620v160Z\"/>\n",
       "  </svg>\n",
       "    </button>\n",
       "\n",
       "  <style>\n",
       "    .colab-df-container {\n",
       "      display:flex;\n",
       "      gap: 12px;\n",
       "    }\n",
       "\n",
       "    .colab-df-convert {\n",
       "      background-color: #E8F0FE;\n",
       "      border: none;\n",
       "      border-radius: 50%;\n",
       "      cursor: pointer;\n",
       "      display: none;\n",
       "      fill: #1967D2;\n",
       "      height: 32px;\n",
       "      padding: 0 0 0 0;\n",
       "      width: 32px;\n",
       "    }\n",
       "\n",
       "    .colab-df-convert:hover {\n",
       "      background-color: #E2EBFA;\n",
       "      box-shadow: 0px 1px 2px rgba(60, 64, 67, 0.3), 0px 1px 3px 1px rgba(60, 64, 67, 0.15);\n",
       "      fill: #174EA6;\n",
       "    }\n",
       "\n",
       "    .colab-df-buttons div {\n",
       "      margin-bottom: 4px;\n",
       "    }\n",
       "\n",
       "    [theme=dark] .colab-df-convert {\n",
       "      background-color: #3B4455;\n",
       "      fill: #D2E3FC;\n",
       "    }\n",
       "\n",
       "    [theme=dark] .colab-df-convert:hover {\n",
       "      background-color: #434B5C;\n",
       "      box-shadow: 0px 1px 3px 1px rgba(0, 0, 0, 0.15);\n",
       "      filter: drop-shadow(0px 1px 2px rgba(0, 0, 0, 0.3));\n",
       "      fill: #FFFFFF;\n",
       "    }\n",
       "  </style>\n",
       "\n",
       "    <script>\n",
       "      const buttonEl =\n",
       "        document.querySelector('#df-125d68c3-5ad6-4111-8899-67f105b4e5e9 button.colab-df-convert');\n",
       "      buttonEl.style.display =\n",
       "        google.colab.kernel.accessAllowed ? 'block' : 'none';\n",
       "\n",
       "      async function convertToInteractive(key) {\n",
       "        const element = document.querySelector('#df-125d68c3-5ad6-4111-8899-67f105b4e5e9');\n",
       "        const dataTable =\n",
       "          await google.colab.kernel.invokeFunction('convertToInteractive',\n",
       "                                                    [key], {});\n",
       "        if (!dataTable) return;\n",
       "\n",
       "        const docLinkHtml = 'Like what you see? Visit the ' +\n",
       "          '<a target=\"_blank\" href=https://colab.research.google.com/notebooks/data_table.ipynb>data table notebook</a>'\n",
       "          + ' to learn more about interactive tables.';\n",
       "        element.innerHTML = '';\n",
       "        dataTable['output_type'] = 'display_data';\n",
       "        await google.colab.output.renderOutput(dataTable, element);\n",
       "        const docLink = document.createElement('div');\n",
       "        docLink.innerHTML = docLinkHtml;\n",
       "        element.appendChild(docLink);\n",
       "      }\n",
       "    </script>\n",
       "  </div>\n",
       "\n",
       "\n",
       "<div id=\"df-6605e7e1-a64e-42fb-9767-541245113155\">\n",
       "  <button class=\"colab-df-quickchart\" onclick=\"quickchart('df-6605e7e1-a64e-42fb-9767-541245113155')\"\n",
       "            title=\"Suggest charts\"\n",
       "            style=\"display:none;\">\n",
       "\n",
       "<svg xmlns=\"http://www.w3.org/2000/svg\" height=\"24px\"viewBox=\"0 0 24 24\"\n",
       "     width=\"24px\">\n",
       "    <g>\n",
       "        <path d=\"M19 3H5c-1.1 0-2 .9-2 2v14c0 1.1.9 2 2 2h14c1.1 0 2-.9 2-2V5c0-1.1-.9-2-2-2zM9 17H7v-7h2v7zm4 0h-2V7h2v10zm4 0h-2v-4h2v4z\"/>\n",
       "    </g>\n",
       "</svg>\n",
       "  </button>\n",
       "\n",
       "<style>\n",
       "  .colab-df-quickchart {\n",
       "      --bg-color: #E8F0FE;\n",
       "      --fill-color: #1967D2;\n",
       "      --hover-bg-color: #E2EBFA;\n",
       "      --hover-fill-color: #174EA6;\n",
       "      --disabled-fill-color: #AAA;\n",
       "      --disabled-bg-color: #DDD;\n",
       "  }\n",
       "\n",
       "  [theme=dark] .colab-df-quickchart {\n",
       "      --bg-color: #3B4455;\n",
       "      --fill-color: #D2E3FC;\n",
       "      --hover-bg-color: #434B5C;\n",
       "      --hover-fill-color: #FFFFFF;\n",
       "      --disabled-bg-color: #3B4455;\n",
       "      --disabled-fill-color: #666;\n",
       "  }\n",
       "\n",
       "  .colab-df-quickchart {\n",
       "    background-color: var(--bg-color);\n",
       "    border: none;\n",
       "    border-radius: 50%;\n",
       "    cursor: pointer;\n",
       "    display: none;\n",
       "    fill: var(--fill-color);\n",
       "    height: 32px;\n",
       "    padding: 0;\n",
       "    width: 32px;\n",
       "  }\n",
       "\n",
       "  .colab-df-quickchart:hover {\n",
       "    background-color: var(--hover-bg-color);\n",
       "    box-shadow: 0 1px 2px rgba(60, 64, 67, 0.3), 0 1px 3px 1px rgba(60, 64, 67, 0.15);\n",
       "    fill: var(--button-hover-fill-color);\n",
       "  }\n",
       "\n",
       "  .colab-df-quickchart-complete:disabled,\n",
       "  .colab-df-quickchart-complete:disabled:hover {\n",
       "    background-color: var(--disabled-bg-color);\n",
       "    fill: var(--disabled-fill-color);\n",
       "    box-shadow: none;\n",
       "  }\n",
       "\n",
       "  .colab-df-spinner {\n",
       "    border: 2px solid var(--fill-color);\n",
       "    border-color: transparent;\n",
       "    border-bottom-color: var(--fill-color);\n",
       "    animation:\n",
       "      spin 1s steps(1) infinite;\n",
       "  }\n",
       "\n",
       "  @keyframes spin {\n",
       "    0% {\n",
       "      border-color: transparent;\n",
       "      border-bottom-color: var(--fill-color);\n",
       "      border-left-color: var(--fill-color);\n",
       "    }\n",
       "    20% {\n",
       "      border-color: transparent;\n",
       "      border-left-color: var(--fill-color);\n",
       "      border-top-color: var(--fill-color);\n",
       "    }\n",
       "    30% {\n",
       "      border-color: transparent;\n",
       "      border-left-color: var(--fill-color);\n",
       "      border-top-color: var(--fill-color);\n",
       "      border-right-color: var(--fill-color);\n",
       "    }\n",
       "    40% {\n",
       "      border-color: transparent;\n",
       "      border-right-color: var(--fill-color);\n",
       "      border-top-color: var(--fill-color);\n",
       "    }\n",
       "    60% {\n",
       "      border-color: transparent;\n",
       "      border-right-color: var(--fill-color);\n",
       "    }\n",
       "    80% {\n",
       "      border-color: transparent;\n",
       "      border-right-color: var(--fill-color);\n",
       "      border-bottom-color: var(--fill-color);\n",
       "    }\n",
       "    90% {\n",
       "      border-color: transparent;\n",
       "      border-bottom-color: var(--fill-color);\n",
       "    }\n",
       "  }\n",
       "</style>\n",
       "\n",
       "  <script>\n",
       "    async function quickchart(key) {\n",
       "      const quickchartButtonEl =\n",
       "        document.querySelector('#' + key + ' button');\n",
       "      quickchartButtonEl.disabled = true;  // To prevent multiple clicks.\n",
       "      quickchartButtonEl.classList.add('colab-df-spinner');\n",
       "      try {\n",
       "        const charts = await google.colab.kernel.invokeFunction(\n",
       "            'suggestCharts', [key], {});\n",
       "      } catch (error) {\n",
       "        console.error('Error during call to suggestCharts:', error);\n",
       "      }\n",
       "      quickchartButtonEl.classList.remove('colab-df-spinner');\n",
       "      quickchartButtonEl.classList.add('colab-df-quickchart-complete');\n",
       "    }\n",
       "    (() => {\n",
       "      let quickchartButtonEl =\n",
       "        document.querySelector('#df-6605e7e1-a64e-42fb-9767-541245113155 button');\n",
       "      quickchartButtonEl.style.display =\n",
       "        google.colab.kernel.accessAllowed ? 'block' : 'none';\n",
       "    })();\n",
       "  </script>\n",
       "</div>\n",
       "\n",
       "    </div>\n",
       "  </div>\n"
      ],
      "text/plain": [
       "        videoname  original_width  original_height label        original\n",
       "0  aznyksihgl.mp4             129              129  FAKE  xnojggkrxt.mp4\n",
       "1  gkwmalrvcj.mp4             129              129  FAKE  hqqmtxvbjj.mp4\n",
       "2  lxnqzocgaq.mp4             223              217  FAKE  xjzkfqddyk.mp4\n",
       "3  itsbtrrelv.mp4             186              186  FAKE  kqvepwqxfe.mp4\n",
       "4  ddvgrczjno.mp4             155              155  FAKE  pluadmqqta.mp4"
      ]
     },
     "execution_count": 2,
     "metadata": {},
     "output_type": "execute_result"
    }
   ],
   "source": [
    "def get_data():\n",
    "    return pd.read_csv('/Path/metadata.csv')\n",
    "meta = get_data()\n",
    "meta.head()"
   ]
  },
  {
   "cell_type": "code",
   "execution_count": 3,
   "metadata": {
    "colab": {
     "base_uri": "https://localhost:8080/"
    },
    "id": "EI1yazejJoMM",
    "outputId": "3290855e-a638-4341-d4aa-39929fc95225"
   },
   "outputs": [
    {
     "name": "stdout",
     "output_type": "stream",
     "text": [
      "Total Number of rows in the Metadata set: 95634\n",
      "The total number of 'REAL' samples in faces_224 folder: 16293\n",
      "The total number of 'FAKE' samples in faces_224 folder: 79341\n"
     ]
    }
   ],
   "source": [
    "shape = meta.shape\n",
    "print(f\"Total Number of rows in the Metadata set: {shape[0]}\")\n",
    "\n",
    "len_FAKE = len(meta[meta.label == 'FAKE'])\n",
    "len_REAL = len(meta[meta.label == 'REAL'])\n",
    "\n",
    "print(f\"The total number of 'REAL' samples in faces_224 folder: {len_REAL}\")\n",
    "print(f\"The total number of 'FAKE' samples in faces_224 folder: {len_FAKE}\")"
   ]
  },
  {
   "cell_type": "markdown",
   "metadata": {},
   "source": [
    "Given the prevalence of more Fake images compared to Real images, we opt for undersampling to address the imbalanced dataset. In this approach, we create a balanced sample with a total size of 16000, evenly distributing 8000 images for each class."
   ]
  },
  {
   "cell_type": "code",
   "execution_count": 4,
   "metadata": {
    "id": "9_mTb0uiJpCs"
   },
   "outputs": [],
   "source": [
    "real_labels = meta[meta[\"label\"] == \"REAL\"]\n",
    "fake_labels = meta[meta[\"label\"] == \"FAKE\"]\n",
    "\n",
    "#Creating a sample size of 8000 images in each Real and Fake classes, in total of 16000 images\n",
    "sample_size = 8000\n",
    "\n",
    "real_labels = real_labels.sample(sample_size)\n",
    "fake_labels = fake_labels.sample(sample_size)\n",
    "\n",
    "sample_metadata = pd.concat([real_labels, fake_labels])"
   ]
  },
  {
   "cell_type": "markdown",
   "metadata": {},
   "source": [
    "This code splits the sample_metadata into training and testing sets using the train_test_split method, with a test size of 20% and stratification based on the 'label' column. Subsequently, the training set is further divided into training and validation sets with a 70-30 split ratio, again employing stratification based on the 'label'."
   ]
  },
  {
   "cell_type": "code",
   "execution_count": 5,
   "metadata": {
    "colab": {
     "base_uri": "https://localhost:8080/"
    },
    "id": "SlUHtO4wJwix",
    "outputId": "d836bffd-4982-429d-f705-2456a3497701"
   },
   "outputs": [
    {
     "name": "stdout",
     "output_type": "stream",
     "text": [
      "Number of samples in Training Set: 8960\n",
      "Number of samples in Testing Set: 3200\n"
     ]
    }
   ],
   "source": [
    "Training_set, Testing_set = train_test_split(sample_metadata,\n",
    "                                             test_size = 0.2,\n",
    "                                             stratify = sample_metadata['label'])\n",
    "\n",
    "Training_set, Validation_set  = train_test_split(Training_set,\n",
    "                                                 test_size = 0.3,\n",
    "                                                 stratify = Training_set['label'])\n",
    "\n",
    "print(\"Number of samples in Training Set:\", len(Training_set))\n",
    "print(\"Number of samples in Testing Set:\", len(Testing_set))"
   ]
  },
  {
   "cell_type": "markdown",
   "metadata": {},
   "source": [
    "## Combining the Dataset"
   ]
  },
  {
   "cell_type": "markdown",
   "metadata": {},
   "source": [
    "To generate image datasets, including X_train, X_test, X_val, along with their corresponding labels (y_train, y_test, y_val). The process involves partitioning the provided datasets, namely Training_set and Testing_set, and an additional Validation_set. Images are read, converted into NumPy arrays, and labeled based on the 'label' column extracted from the metadata.csv file. The label encoding strategy designates 0 for 'REAL' and 1 for 'FAKE'.\n",
    "\n",
    "The load_dataset method is utilized to streamline the process of loading and preprocessing images, facilitating the training of the model with input images and their associated labels. This step is pivotal in preparing the data for subsequent model training and evaluation."
   ]
  },
  {
   "cell_type": "code",
   "execution_count": 6,
   "metadata": {
    "id": "avGK9zLqJyNh"
   },
   "outputs": [],
   "source": [
    "def load_dataset(set_name):\n",
    "    images = []\n",
    "    labels = []\n",
    "    for index, row in set_name.iterrows():\n",
    "        img_path = os.path.join('/Path/faces_224',\n",
    "                                row['videoname'][:-4] + '.jpg')\n",
    "\n",
    "        img = cv2.imread(img_path)\n",
    "        images.append(img)\n",
    "        labels.append(0 if row['label'] == 'REAL' else 1)\n",
    "    return np.array(images), np.array(labels)"
   ]
  },
  {
   "cell_type": "code",
   "execution_count": 7,
   "metadata": {
    "id": "znSFpctDJzH-"
   },
   "outputs": [],
   "source": [
    "X_train, y_train = load_dataset(Training_set)\n",
    "X_val,y_val = load_dataset(Validation_set)\n",
    "X_test, y_test = load_dataset(Testing_set)"
   ]
  },
  {
   "cell_type": "code",
   "execution_count": 8,
   "metadata": {
    "id": "3jOUrRshJ1lJ"
   },
   "outputs": [],
   "source": [
    "train_set_raw = tf.data.Dataset.from_tensor_slices((X_train, y_train))\n",
    "valid_set_raw = tf.data.Dataset.from_tensor_slices((X_val, y_val))\n",
    "test_set_raw = tf.data.Dataset.from_tensor_slices((X_test, y_test))"
   ]
  },
  {
   "cell_type": "markdown",
   "metadata": {},
   "source": [
    "This creates TensorFlow datasets, namely \"train_set_raw\", \"valid_set_raw\", and \"test_set_raw\", from NumPy arrays representing the training, validation, and testing sets, respectively. The TensorFlow \"from_tensor_slices\" method is employed to convert the NumPy arrays into slices that can be directly used in TensorFlow datasets. The resulting datasets are structured to contain pairs of input images and their corresponding labels, with \"X_train\" and \"y_train\" contributing to \"train_set_raw\", \"X_val\" and \"y_val\" contributing to \"valid_set_raw\", and \"X_test\" and \"y_test\" contributing to \"test_set_raw\". These datasets are now ready for use in training, validation, and testing processes within a TensorFlow environment."
   ]
  },
  {
   "cell_type": "code",
   "execution_count": 9,
   "metadata": {
    "id": "d0w2THqoJ6kO"
   },
   "outputs": [],
   "source": [
    "batch_size = 32\n",
    "preprocess = tf.keras.applications.xception.preprocess_input\n",
    "train_set = train_set_raw.map(lambda X, y: (preprocess(tf.cast(X, tf.float32)), y))\n",
    "train_set = train_set.shuffle(1000).batch(batch_size).prefetch(1)\n",
    "valid_set = valid_set_raw.map(lambda X, y: (preprocess(tf.cast(X, tf.float32)), y)).batch(batch_size)\n",
    "test_set = test_set_raw.map(lambda X, y: (preprocess(tf.cast(X, tf.float32)), y)).batch(batch_size)"
   ]
  },
  {
   "cell_type": "markdown",
   "metadata": {},
   "source": [
    "Creating a batch size of 32 and utilizes TensorFlow's Xception preprocessing function (preprocess_input) to preprocess the raw datasets (train_set_raw, valid_set_raw, and test_set_raw). For the training set (train_set), the data is first mapped to apply preprocessing to each element, then shuffled with a buffer size of 1000, batched into groups of 32, and finally prefetched for optimization. Similarly, the validation and test sets (valid_set and test_set) are mapped and batched, without shuffling, to prepare them for evaluation. The entire process ensures that the datasets are appropriately preprocessed and organized for training and validation in a TensorFlow environment."
   ]
  },
  {
   "cell_type": "markdown",
   "metadata": {},
   "source": [
    "## Data Augmentation"
   ]
  },
  {
   "cell_type": "markdown",
   "metadata": {},
   "source": [
    "Using TensorFlow's Keras Sequential model, a data augmentation pipeline is implemented, incorporating three augmentation layers: horizontal flipping, rotation, and contrast adjustment. The primary goal of this pipeline is to enhance the training dataset by introducing diverse variations, ultimately improving the model's ability to generalize."
   ]
  },
  {
   "cell_type": "code",
   "execution_count": 10,
   "metadata": {
    "id": "h-ZQEUZ-KBGm"
   },
   "outputs": [],
   "source": [
    "data_augmentation = tf.keras.Sequential([\n",
    "    tf.keras.layers.RandomFlip(mode = \"horizontal\"),\n",
    "    tf.keras.layers.RandomRotation(factor = 0.05),\n",
    "    tf.keras.layers.RandomContrast(factor = 0.2)\n",
    "])"
   ]
  },
  {
   "cell_type": "markdown",
   "metadata": {},
   "source": [
    "## Importing the Xception Model"
   ]
  },
  {
   "cell_type": "markdown",
   "metadata": {},
   "source": [
    "The variable \"XCEPTION_MODEL\" is assigned the Xception model with pre-trained ImageNet weights and excluding the top classification layer.\n",
    "\n",
    "#### About Xception\n",
    "Xception, introduced by François Chollet in 2017, is a sophisticated convolutional neural network with 71 layers, renowned for its outstanding capabilities in tasks related to image classification."
   ]
  },
  {
   "cell_type": "code",
   "execution_count": 11,
   "metadata": {
    "colab": {
     "base_uri": "https://localhost:8080/"
    },
    "id": "VKa__OO_oSMs",
    "outputId": "2bece9fa-2bdf-4ec3-d9fd-da9d66018ea0"
   },
   "outputs": [
    {
     "name": "stdout",
     "output_type": "stream",
     "text": [
      "Downloading data from https://storage.googleapis.com/tensorflow/keras-applications/xception/xception_weights_tf_dim_ordering_tf_kernels_notop.h5\n",
      "83683744/83683744 [==============================] - 0s 0us/step\n"
     ]
    }
   ],
   "source": [
    "XCEPTION_MODEL = Xception(weights = \"imagenet\", include_top = False)"
   ]
  },
  {
   "cell_type": "markdown",
   "metadata": {},
   "source": [
    "The Xception model's layers are all rendered untrainable by this code. The XCEPTION model effectively freezes the weights of the layers by iterating through each one and prohibiting updates to the layers during training. The pre-trained layers are utilized as feature extractors in transfer learning, and only the custom layers that are layered on top are trained for the new task."
   ]
  },
  {
   "cell_type": "code",
   "execution_count": 12,
   "metadata": {
    "id": "-gHG_8ozKKoG"
   },
   "outputs": [],
   "source": [
    "for layer in XCEPTION_MODEL.layers:\n",
    "    layer.trainable = False"
   ]
  },
  {
   "cell_type": "markdown",
   "metadata": {},
   "source": [
    "## Additional Layers"
   ]
  },
  {
   "cell_type": "markdown",
   "metadata": {},
   "source": [
    "The variable \"AVG_POOLING\" is created by applying Global Average Pooling to the output of the Xception model, and a final dense layer with \"Sigmoid\" activation is added to produce the predictions."
   ]
  },
  {
   "cell_type": "code",
   "execution_count": 13,
   "metadata": {
    "id": "gBxrGwb0KFsJ"
   },
   "outputs": [],
   "source": [
    "AVG_POOLING = GlobalAveragePooling2D()(XCEPTION_MODEL.output)\n",
    "pred_layer = Dense(1, activation='sigmoid')(AVG_POOLING)"
   ]
  },
  {
   "cell_type": "markdown",
   "metadata": {},
   "source": [
    "## Creating the Final XCEPTION Model"
   ]
  },
  {
   "cell_type": "code",
   "execution_count": 14,
   "metadata": {
    "id": "PW4MCPL0KLMk"
   },
   "outputs": [],
   "source": [
    "XCEPTION_DFDI = Model(inputs = XCEPTION_MODEL.input, outputs = pred_layer)\n",
    "\n",
    "#Compiling the Model\n",
    "optimizer = tf.keras.optimizers.SGD(learning_rate = 0.1, momentum = 0.9)\n",
    "XCEPTION_DFDI.compile(loss=\"binary_crossentropy\", optimizer = optimizer, metrics = [\"accuracy\"])"
   ]
  },
  {
   "cell_type": "markdown",
   "metadata": {},
   "source": [
    "## Model Summary"
   ]
  },
  {
   "cell_type": "code",
   "execution_count": 15,
   "metadata": {
    "colab": {
     "base_uri": "https://localhost:8080/"
    },
    "id": "VFT1QUZznsrq",
    "outputId": "7be95c62-0f1d-4a1f-9deb-0803a5ccfebe",
    "scrolled": true
   },
   "outputs": [
    {
     "name": "stdout",
     "output_type": "stream",
     "text": [
      "Model: \"model\"\n",
      "__________________________________________________________________________________________________\n",
      " Layer (type)                Output Shape                 Param #   Connected to                  \n",
      "==================================================================================================\n",
      " input_1 (InputLayer)        [(None, None, None, 3)]      0         []                            \n",
      "                                                                                                  \n",
      " block1_conv1 (Conv2D)       (None, None, None, 32)       864       ['input_1[0][0]']             \n",
      "                                                                                                  \n",
      " block1_conv1_bn (BatchNorm  (None, None, None, 32)       128       ['block1_conv1[0][0]']        \n",
      " alization)                                                                                       \n",
      "                                                                                                  \n",
      " block1_conv1_act (Activati  (None, None, None, 32)       0         ['block1_conv1_bn[0][0]']     \n",
      " on)                                                                                              \n",
      "                                                                                                  \n",
      " block1_conv2 (Conv2D)       (None, None, None, 64)       18432     ['block1_conv1_act[0][0]']    \n",
      "                                                                                                  \n",
      " block1_conv2_bn (BatchNorm  (None, None, None, 64)       256       ['block1_conv2[0][0]']        \n",
      " alization)                                                                                       \n",
      "                                                                                                  \n",
      " block1_conv2_act (Activati  (None, None, None, 64)       0         ['block1_conv2_bn[0][0]']     \n",
      " on)                                                                                              \n",
      "                                                                                                  \n",
      " block2_sepconv1 (Separable  (None, None, None, 128)      8768      ['block1_conv2_act[0][0]']    \n",
      " Conv2D)                                                                                          \n",
      "                                                                                                  \n",
      " block2_sepconv1_bn (BatchN  (None, None, None, 128)      512       ['block2_sepconv1[0][0]']     \n",
      " ormalization)                                                                                    \n",
      "                                                                                                  \n",
      " block2_sepconv2_act (Activ  (None, None, None, 128)      0         ['block2_sepconv1_bn[0][0]']  \n",
      " ation)                                                                                           \n",
      "                                                                                                  \n",
      " block2_sepconv2 (Separable  (None, None, None, 128)      17536     ['block2_sepconv2_act[0][0]'] \n",
      " Conv2D)                                                                                          \n",
      "                                                                                                  \n",
      " block2_sepconv2_bn (BatchN  (None, None, None, 128)      512       ['block2_sepconv2[0][0]']     \n",
      " ormalization)                                                                                    \n",
      "                                                                                                  \n",
      " conv2d (Conv2D)             (None, None, None, 128)      8192      ['block1_conv2_act[0][0]']    \n",
      "                                                                                                  \n",
      " block2_pool (MaxPooling2D)  (None, None, None, 128)      0         ['block2_sepconv2_bn[0][0]']  \n",
      "                                                                                                  \n",
      " batch_normalization (Batch  (None, None, None, 128)      512       ['conv2d[0][0]']              \n",
      " Normalization)                                                                                   \n",
      "                                                                                                  \n",
      " add (Add)                   (None, None, None, 128)      0         ['block2_pool[0][0]',         \n",
      "                                                                     'batch_normalization[0][0]'] \n",
      "                                                                                                  \n",
      " block3_sepconv1_act (Activ  (None, None, None, 128)      0         ['add[0][0]']                 \n",
      " ation)                                                                                           \n",
      "                                                                                                  \n",
      " block3_sepconv1 (Separable  (None, None, None, 256)      33920     ['block3_sepconv1_act[0][0]'] \n",
      " Conv2D)                                                                                          \n",
      "                                                                                                  \n",
      " block3_sepconv1_bn (BatchN  (None, None, None, 256)      1024      ['block3_sepconv1[0][0]']     \n",
      " ormalization)                                                                                    \n",
      "                                                                                                  \n",
      " block3_sepconv2_act (Activ  (None, None, None, 256)      0         ['block3_sepconv1_bn[0][0]']  \n",
      " ation)                                                                                           \n",
      "                                                                                                  \n",
      " block3_sepconv2 (Separable  (None, None, None, 256)      67840     ['block3_sepconv2_act[0][0]'] \n",
      " Conv2D)                                                                                          \n",
      "                                                                                                  \n",
      " block3_sepconv2_bn (BatchN  (None, None, None, 256)      1024      ['block3_sepconv2[0][0]']     \n",
      " ormalization)                                                                                    \n",
      "                                                                                                  \n",
      " conv2d_1 (Conv2D)           (None, None, None, 256)      32768     ['add[0][0]']                 \n",
      "                                                                                                  \n",
      " block3_pool (MaxPooling2D)  (None, None, None, 256)      0         ['block3_sepconv2_bn[0][0]']  \n",
      "                                                                                                  \n",
      " batch_normalization_1 (Bat  (None, None, None, 256)      1024      ['conv2d_1[0][0]']            \n",
      " chNormalization)                                                                                 \n",
      "                                                                                                  \n",
      " add_1 (Add)                 (None, None, None, 256)      0         ['block3_pool[0][0]',         \n",
      "                                                                     'batch_normalization_1[0][0]'\n",
      "                                                                    ]                             \n",
      "                                                                                                  \n",
      " block4_sepconv1_act (Activ  (None, None, None, 256)      0         ['add_1[0][0]']               \n",
      " ation)                                                                                           \n",
      "                                                                                                  \n",
      " block4_sepconv1 (Separable  (None, None, None, 728)      188672    ['block4_sepconv1_act[0][0]'] \n",
      " Conv2D)                                                                                          \n",
      "                                                                                                  \n",
      " block4_sepconv1_bn (BatchN  (None, None, None, 728)      2912      ['block4_sepconv1[0][0]']     \n",
      " ormalization)                                                                                    \n",
      "                                                                                                  \n",
      " block4_sepconv2_act (Activ  (None, None, None, 728)      0         ['block4_sepconv1_bn[0][0]']  \n",
      " ation)                                                                                           \n",
      "                                                                                                  \n",
      " block4_sepconv2 (Separable  (None, None, None, 728)      536536    ['block4_sepconv2_act[0][0]'] \n",
      " Conv2D)                                                                                          \n",
      "                                                                                                  \n",
      " block4_sepconv2_bn (BatchN  (None, None, None, 728)      2912      ['block4_sepconv2[0][0]']     \n",
      " ormalization)                                                                                    \n",
      "                                                                                                  \n",
      " conv2d_2 (Conv2D)           (None, None, None, 728)      186368    ['add_1[0][0]']               \n",
      "                                                                                                  \n",
      " block4_pool (MaxPooling2D)  (None, None, None, 728)      0         ['block4_sepconv2_bn[0][0]']  \n",
      "                                                                                                  \n",
      " batch_normalization_2 (Bat  (None, None, None, 728)      2912      ['conv2d_2[0][0]']            \n",
      " chNormalization)                                                                                 \n",
      "                                                                                                  \n",
      " add_2 (Add)                 (None, None, None, 728)      0         ['block4_pool[0][0]',         \n",
      "                                                                     'batch_normalization_2[0][0]'\n",
      "                                                                    ]                             \n",
      "                                                                                                  \n",
      " block5_sepconv1_act (Activ  (None, None, None, 728)      0         ['add_2[0][0]']               \n",
      " ation)                                                                                           \n",
      "                                                                                                  \n",
      " block5_sepconv1 (Separable  (None, None, None, 728)      536536    ['block5_sepconv1_act[0][0]'] \n",
      " Conv2D)                                                                                          \n",
      "                                                                                                  \n",
      " block5_sepconv1_bn (BatchN  (None, None, None, 728)      2912      ['block5_sepconv1[0][0]']     \n",
      " ormalization)                                                                                    \n",
      "                                                                                                  \n",
      " block5_sepconv2_act (Activ  (None, None, None, 728)      0         ['block5_sepconv1_bn[0][0]']  \n",
      " ation)                                                                                           \n",
      "                                                                                                  \n",
      " block5_sepconv2 (Separable  (None, None, None, 728)      536536    ['block5_sepconv2_act[0][0]'] \n",
      " Conv2D)                                                                                          \n",
      "                                                                                                  \n",
      " block5_sepconv2_bn (BatchN  (None, None, None, 728)      2912      ['block5_sepconv2[0][0]']     \n",
      " ormalization)                                                                                    \n",
      "                                                                                                  \n",
      " block5_sepconv3_act (Activ  (None, None, None, 728)      0         ['block5_sepconv2_bn[0][0]']  \n",
      " ation)                                                                                           \n",
      "                                                                                                  \n",
      " block5_sepconv3 (Separable  (None, None, None, 728)      536536    ['block5_sepconv3_act[0][0]'] \n",
      " Conv2D)                                                                                          \n",
      "                                                                                                  \n",
      " block5_sepconv3_bn (BatchN  (None, None, None, 728)      2912      ['block5_sepconv3[0][0]']     \n",
      " ormalization)                                                                                    \n",
      "                                                                                                  \n",
      " add_3 (Add)                 (None, None, None, 728)      0         ['block5_sepconv3_bn[0][0]',  \n",
      "                                                                     'add_2[0][0]']               \n",
      "                                                                                                  \n",
      " block6_sepconv1_act (Activ  (None, None, None, 728)      0         ['add_3[0][0]']               \n",
      " ation)                                                                                           \n",
      "                                                                                                  \n",
      " block6_sepconv1 (Separable  (None, None, None, 728)      536536    ['block6_sepconv1_act[0][0]'] \n",
      " Conv2D)                                                                                          \n",
      "                                                                                                  \n",
      " block6_sepconv1_bn (BatchN  (None, None, None, 728)      2912      ['block6_sepconv1[0][0]']     \n",
      " ormalization)                                                                                    \n",
      "                                                                                                  \n",
      " block6_sepconv2_act (Activ  (None, None, None, 728)      0         ['block6_sepconv1_bn[0][0]']  \n",
      " ation)                                                                                           \n",
      "                                                                                                  \n",
      " block6_sepconv2 (Separable  (None, None, None, 728)      536536    ['block6_sepconv2_act[0][0]'] \n",
      " Conv2D)                                                                                          \n",
      "                                                                                                  \n",
      " block6_sepconv2_bn (BatchN  (None, None, None, 728)      2912      ['block6_sepconv2[0][0]']     \n",
      " ormalization)                                                                                    \n",
      "                                                                                                  \n",
      " block6_sepconv3_act (Activ  (None, None, None, 728)      0         ['block6_sepconv2_bn[0][0]']  \n",
      " ation)                                                                                           \n",
      "                                                                                                  \n",
      " block6_sepconv3 (Separable  (None, None, None, 728)      536536    ['block6_sepconv3_act[0][0]'] \n",
      " Conv2D)                                                                                          \n",
      "                                                                                                  \n",
      " block6_sepconv3_bn (BatchN  (None, None, None, 728)      2912      ['block6_sepconv3[0][0]']     \n",
      " ormalization)                                                                                    \n",
      "                                                                                                  \n",
      " add_4 (Add)                 (None, None, None, 728)      0         ['block6_sepconv3_bn[0][0]',  \n",
      "                                                                     'add_3[0][0]']               \n",
      "                                                                                                  \n",
      " block7_sepconv1_act (Activ  (None, None, None, 728)      0         ['add_4[0][0]']               \n",
      " ation)                                                                                           \n",
      "                                                                                                  \n",
      " block7_sepconv1 (Separable  (None, None, None, 728)      536536    ['block7_sepconv1_act[0][0]'] \n",
      " Conv2D)                                                                                          \n",
      "                                                                                                  \n",
      " block7_sepconv1_bn (BatchN  (None, None, None, 728)      2912      ['block7_sepconv1[0][0]']     \n",
      " ormalization)                                                                                    \n",
      "                                                                                                  \n",
      " block7_sepconv2_act (Activ  (None, None, None, 728)      0         ['block7_sepconv1_bn[0][0]']  \n",
      " ation)                                                                                           \n",
      "                                                                                                  \n",
      " block7_sepconv2 (Separable  (None, None, None, 728)      536536    ['block7_sepconv2_act[0][0]'] \n",
      " Conv2D)                                                                                          \n",
      "                                                                                                  \n",
      " block7_sepconv2_bn (BatchN  (None, None, None, 728)      2912      ['block7_sepconv2[0][0]']     \n",
      " ormalization)                                                                                    \n",
      "                                                                                                  \n",
      " block7_sepconv3_act (Activ  (None, None, None, 728)      0         ['block7_sepconv2_bn[0][0]']  \n",
      " ation)                                                                                           \n",
      "                                                                                                  \n",
      " block7_sepconv3 (Separable  (None, None, None, 728)      536536    ['block7_sepconv3_act[0][0]'] \n",
      " Conv2D)                                                                                          \n",
      "                                                                                                  \n",
      " block7_sepconv3_bn (BatchN  (None, None, None, 728)      2912      ['block7_sepconv3[0][0]']     \n",
      " ormalization)                                                                                    \n",
      "                                                                                                  \n",
      " add_5 (Add)                 (None, None, None, 728)      0         ['block7_sepconv3_bn[0][0]',  \n",
      "                                                                     'add_4[0][0]']               \n",
      "                                                                                                  \n",
      " block8_sepconv1_act (Activ  (None, None, None, 728)      0         ['add_5[0][0]']               \n",
      " ation)                                                                                           \n",
      "                                                                                                  \n",
      " block8_sepconv1 (Separable  (None, None, None, 728)      536536    ['block8_sepconv1_act[0][0]'] \n",
      " Conv2D)                                                                                          \n",
      "                                                                                                  \n",
      " block8_sepconv1_bn (BatchN  (None, None, None, 728)      2912      ['block8_sepconv1[0][0]']     \n",
      " ormalization)                                                                                    \n",
      "                                                                                                  \n",
      " block8_sepconv2_act (Activ  (None, None, None, 728)      0         ['block8_sepconv1_bn[0][0]']  \n",
      " ation)                                                                                           \n",
      "                                                                                                  \n",
      " block8_sepconv2 (Separable  (None, None, None, 728)      536536    ['block8_sepconv2_act[0][0]'] \n",
      " Conv2D)                                                                                          \n",
      "                                                                                                  \n",
      " block8_sepconv2_bn (BatchN  (None, None, None, 728)      2912      ['block8_sepconv2[0][0]']     \n",
      " ormalization)                                                                                    \n",
      "                                                                                                  \n",
      " block8_sepconv3_act (Activ  (None, None, None, 728)      0         ['block8_sepconv2_bn[0][0]']  \n",
      " ation)                                                                                           \n",
      "                                                                                                  \n",
      " block8_sepconv3 (Separable  (None, None, None, 728)      536536    ['block8_sepconv3_act[0][0]'] \n",
      " Conv2D)                                                                                          \n",
      "                                                                                                  \n",
      " block8_sepconv3_bn (BatchN  (None, None, None, 728)      2912      ['block8_sepconv3[0][0]']     \n",
      " ormalization)                                                                                    \n",
      "                                                                                                  \n",
      " add_6 (Add)                 (None, None, None, 728)      0         ['block8_sepconv3_bn[0][0]',  \n",
      "                                                                     'add_5[0][0]']               \n",
      "                                                                                                  \n",
      " block9_sepconv1_act (Activ  (None, None, None, 728)      0         ['add_6[0][0]']               \n",
      " ation)                                                                                           \n",
      "                                                                                                  \n",
      " block9_sepconv1 (Separable  (None, None, None, 728)      536536    ['block9_sepconv1_act[0][0]'] \n",
      " Conv2D)                                                                                          \n",
      "                                                                                                  \n",
      " block9_sepconv1_bn (BatchN  (None, None, None, 728)      2912      ['block9_sepconv1[0][0]']     \n",
      " ormalization)                                                                                    \n",
      "                                                                                                  \n",
      " block9_sepconv2_act (Activ  (None, None, None, 728)      0         ['block9_sepconv1_bn[0][0]']  \n",
      " ation)                                                                                           \n",
      "                                                                                                  \n",
      " block9_sepconv2 (Separable  (None, None, None, 728)      536536    ['block9_sepconv2_act[0][0]'] \n",
      " Conv2D)                                                                                          \n",
      "                                                                                                  \n",
      " block9_sepconv2_bn (BatchN  (None, None, None, 728)      2912      ['block9_sepconv2[0][0]']     \n",
      " ormalization)                                                                                    \n",
      "                                                                                                  \n",
      " block9_sepconv3_act (Activ  (None, None, None, 728)      0         ['block9_sepconv2_bn[0][0]']  \n",
      " ation)                                                                                           \n",
      "                                                                                                  \n",
      " block9_sepconv3 (Separable  (None, None, None, 728)      536536    ['block9_sepconv3_act[0][0]'] \n",
      " Conv2D)                                                                                          \n",
      "                                                                                                  \n",
      " block9_sepconv3_bn (BatchN  (None, None, None, 728)      2912      ['block9_sepconv3[0][0]']     \n",
      " ormalization)                                                                                    \n",
      "                                                                                                  \n",
      " add_7 (Add)                 (None, None, None, 728)      0         ['block9_sepconv3_bn[0][0]',  \n",
      "                                                                     'add_6[0][0]']               \n",
      "                                                                                                  \n",
      " block10_sepconv1_act (Acti  (None, None, None, 728)      0         ['add_7[0][0]']               \n",
      " vation)                                                                                          \n",
      "                                                                                                  \n",
      " block10_sepconv1 (Separabl  (None, None, None, 728)      536536    ['block10_sepconv1_act[0][0]']\n",
      " eConv2D)                                                                                         \n",
      "                                                                                                  \n",
      " block10_sepconv1_bn (Batch  (None, None, None, 728)      2912      ['block10_sepconv1[0][0]']    \n",
      " Normalization)                                                                                   \n",
      "                                                                                                  \n",
      " block10_sepconv2_act (Acti  (None, None, None, 728)      0         ['block10_sepconv1_bn[0][0]'] \n",
      " vation)                                                                                          \n",
      "                                                                                                  \n",
      " block10_sepconv2 (Separabl  (None, None, None, 728)      536536    ['block10_sepconv2_act[0][0]']\n",
      " eConv2D)                                                                                         \n",
      "                                                                                                  \n",
      " block10_sepconv2_bn (Batch  (None, None, None, 728)      2912      ['block10_sepconv2[0][0]']    \n",
      " Normalization)                                                                                   \n",
      "                                                                                                  \n",
      " block10_sepconv3_act (Acti  (None, None, None, 728)      0         ['block10_sepconv2_bn[0][0]'] \n",
      " vation)                                                                                          \n",
      "                                                                                                  \n",
      " block10_sepconv3 (Separabl  (None, None, None, 728)      536536    ['block10_sepconv3_act[0][0]']\n",
      " eConv2D)                                                                                         \n",
      "                                                                                                  \n",
      " block10_sepconv3_bn (Batch  (None, None, None, 728)      2912      ['block10_sepconv3[0][0]']    \n",
      " Normalization)                                                                                   \n",
      "                                                                                                  \n",
      " add_8 (Add)                 (None, None, None, 728)      0         ['block10_sepconv3_bn[0][0]', \n",
      "                                                                     'add_7[0][0]']               \n",
      "                                                                                                  \n",
      " block11_sepconv1_act (Acti  (None, None, None, 728)      0         ['add_8[0][0]']               \n",
      " vation)                                                                                          \n",
      "                                                                                                  \n",
      " block11_sepconv1 (Separabl  (None, None, None, 728)      536536    ['block11_sepconv1_act[0][0]']\n",
      " eConv2D)                                                                                         \n",
      "                                                                                                  \n",
      " block11_sepconv1_bn (Batch  (None, None, None, 728)      2912      ['block11_sepconv1[0][0]']    \n",
      " Normalization)                                                                                   \n",
      "                                                                                                  \n",
      " block11_sepconv2_act (Acti  (None, None, None, 728)      0         ['block11_sepconv1_bn[0][0]'] \n",
      " vation)                                                                                          \n",
      "                                                                                                  \n",
      " block11_sepconv2 (Separabl  (None, None, None, 728)      536536    ['block11_sepconv2_act[0][0]']\n",
      " eConv2D)                                                                                         \n",
      "                                                                                                  \n",
      " block11_sepconv2_bn (Batch  (None, None, None, 728)      2912      ['block11_sepconv2[0][0]']    \n",
      " Normalization)                                                                                   \n",
      "                                                                                                  \n",
      " block11_sepconv3_act (Acti  (None, None, None, 728)      0         ['block11_sepconv2_bn[0][0]'] \n",
      " vation)                                                                                          \n",
      "                                                                                                  \n",
      " block11_sepconv3 (Separabl  (None, None, None, 728)      536536    ['block11_sepconv3_act[0][0]']\n",
      " eConv2D)                                                                                         \n",
      "                                                                                                  \n",
      " block11_sepconv3_bn (Batch  (None, None, None, 728)      2912      ['block11_sepconv3[0][0]']    \n",
      " Normalization)                                                                                   \n",
      "                                                                                                  \n",
      " add_9 (Add)                 (None, None, None, 728)      0         ['block11_sepconv3_bn[0][0]', \n",
      "                                                                     'add_8[0][0]']               \n",
      "                                                                                                  \n",
      " block12_sepconv1_act (Acti  (None, None, None, 728)      0         ['add_9[0][0]']               \n",
      " vation)                                                                                          \n",
      "                                                                                                  \n",
      " block12_sepconv1 (Separabl  (None, None, None, 728)      536536    ['block12_sepconv1_act[0][0]']\n",
      " eConv2D)                                                                                         \n",
      "                                                                                                  \n",
      " block12_sepconv1_bn (Batch  (None, None, None, 728)      2912      ['block12_sepconv1[0][0]']    \n",
      " Normalization)                                                                                   \n",
      "                                                                                                  \n",
      " block12_sepconv2_act (Acti  (None, None, None, 728)      0         ['block12_sepconv1_bn[0][0]'] \n",
      " vation)                                                                                          \n",
      "                                                                                                  \n",
      " block12_sepconv2 (Separabl  (None, None, None, 728)      536536    ['block12_sepconv2_act[0][0]']\n",
      " eConv2D)                                                                                         \n",
      "                                                                                                  \n",
      " block12_sepconv2_bn (Batch  (None, None, None, 728)      2912      ['block12_sepconv2[0][0]']    \n",
      " Normalization)                                                                                   \n",
      "                                                                                                  \n",
      " block12_sepconv3_act (Acti  (None, None, None, 728)      0         ['block12_sepconv2_bn[0][0]'] \n",
      " vation)                                                                                          \n",
      "                                                                                                  \n",
      " block12_sepconv3 (Separabl  (None, None, None, 728)      536536    ['block12_sepconv3_act[0][0]']\n",
      " eConv2D)                                                                                         \n",
      "                                                                                                  \n",
      " block12_sepconv3_bn (Batch  (None, None, None, 728)      2912      ['block12_sepconv3[0][0]']    \n",
      " Normalization)                                                                                   \n",
      "                                                                                                  \n",
      " add_10 (Add)                (None, None, None, 728)      0         ['block12_sepconv3_bn[0][0]', \n",
      "                                                                     'add_9[0][0]']               \n",
      "                                                                                                  \n",
      " block13_sepconv1_act (Acti  (None, None, None, 728)      0         ['add_10[0][0]']              \n",
      " vation)                                                                                          \n",
      "                                                                                                  \n",
      " block13_sepconv1 (Separabl  (None, None, None, 728)      536536    ['block13_sepconv1_act[0][0]']\n",
      " eConv2D)                                                                                         \n",
      "                                                                                                  \n",
      " block13_sepconv1_bn (Batch  (None, None, None, 728)      2912      ['block13_sepconv1[0][0]']    \n",
      " Normalization)                                                                                   \n",
      "                                                                                                  \n",
      " block13_sepconv2_act (Acti  (None, None, None, 728)      0         ['block13_sepconv1_bn[0][0]'] \n",
      " vation)                                                                                          \n",
      "                                                                                                  \n",
      " block13_sepconv2 (Separabl  (None, None, None, 1024)     752024    ['block13_sepconv2_act[0][0]']\n",
      " eConv2D)                                                                                         \n",
      "                                                                                                  \n",
      " block13_sepconv2_bn (Batch  (None, None, None, 1024)     4096      ['block13_sepconv2[0][0]']    \n",
      " Normalization)                                                                                   \n",
      "                                                                                                  \n",
      " conv2d_3 (Conv2D)           (None, None, None, 1024)     745472    ['add_10[0][0]']              \n",
      "                                                                                                  \n",
      " block13_pool (MaxPooling2D  (None, None, None, 1024)     0         ['block13_sepconv2_bn[0][0]'] \n",
      " )                                                                                                \n",
      "                                                                                                  \n",
      " batch_normalization_3 (Bat  (None, None, None, 1024)     4096      ['conv2d_3[0][0]']            \n",
      " chNormalization)                                                                                 \n",
      "                                                                                                  \n",
      " add_11 (Add)                (None, None, None, 1024)     0         ['block13_pool[0][0]',        \n",
      "                                                                     'batch_normalization_3[0][0]'\n",
      "                                                                    ]                             \n",
      "                                                                                                  \n",
      " block14_sepconv1 (Separabl  (None, None, None, 1536)     1582080   ['add_11[0][0]']              \n",
      " eConv2D)                                                                                         \n",
      "                                                                                                  \n",
      " block14_sepconv1_bn (Batch  (None, None, None, 1536)     6144      ['block14_sepconv1[0][0]']    \n",
      " Normalization)                                                                                   \n",
      "                                                                                                  \n",
      " block14_sepconv1_act (Acti  (None, None, None, 1536)     0         ['block14_sepconv1_bn[0][0]'] \n",
      " vation)                                                                                          \n",
      "                                                                                                  \n",
      " block14_sepconv2 (Separabl  (None, None, None, 2048)     3159552   ['block14_sepconv1_act[0][0]']\n",
      " eConv2D)                                                                                         \n",
      "                                                                                                  \n",
      " block14_sepconv2_bn (Batch  (None, None, None, 2048)     8192      ['block14_sepconv2[0][0]']    \n",
      " Normalization)                                                                                   \n",
      "                                                                                                  \n",
      " block14_sepconv2_act (Acti  (None, None, None, 2048)     0         ['block14_sepconv2_bn[0][0]'] \n",
      " vation)                                                                                          \n",
      "                                                                                                  \n",
      " global_average_pooling2d (  (None, 2048)                 0         ['block14_sepconv2_act[0][0]']\n",
      " GlobalAveragePooling2D)                                                                          \n",
      "                                                                                                  \n",
      " dense (Dense)               (None, 1)                    2049      ['global_average_pooling2d[0][\n",
      "                                                                    0]']                          \n",
      "                                                                                                  \n",
      "==================================================================================================\n",
      "Total params: 20863529 (79.59 MB)\n",
      "Trainable params: 2049 (8.00 KB)\n",
      "Non-trainable params: 20861480 (79.58 MB)\n",
      "__________________________________________________________________________________________________\n"
     ]
    }
   ],
   "source": [
    "XCEPTION_DFDI.summary()"
   ]
  },
  {
   "cell_type": "markdown",
   "metadata": {},
   "source": [
    "## Early Stopping Function"
   ]
  },
  {
   "cell_type": "markdown",
   "metadata": {},
   "source": [
    " If the validation accuracy surpasses or equals 65%, a message is printed, indicating that the validation accuracy has reached the specified threshold, and training is stopped."
   ]
  },
  {
   "cell_type": "code",
   "execution_count": 16,
   "metadata": {
    "id": "4EiJ0QhYxOna"
   },
   "outputs": [],
   "source": [
    "class CustomCallback(Callback):\n",
    "    def on_epoch_end(self, epoch, logs=None):\n",
    "        if logs is None:\n",
    "            logs = {}\n",
    "\n",
    "        val_accuracy = logs.get('val_accuracy')\n",
    "        if val_accuracy is not None and val_accuracy >= 0.65:\n",
    "          print(\"\\n\")\n",
    "          print(f\"\\nValidation accuracy reached {val_accuracy * 100:.2f}%. Training is Stopped.\")\n",
    "          self.model.stop_training = True\n",
    "\n",
    "custom_callback = CustomCallback()"
   ]
  },
  {
   "cell_type": "markdown",
   "metadata": {},
   "source": [
    "## Training the Model"
   ]
  },
  {
   "cell_type": "markdown",
   "metadata": {},
   "source": [
    "The model is trained using a custom callback function on the entire dataset, which consists of 280 batches, over 60 epochs while utilizing a custom callback function."
   ]
  },
  {
   "cell_type": "code",
   "execution_count": 17,
   "metadata": {
    "colab": {
     "base_uri": "https://localhost:8080/"
    },
    "id": "OiIN7Yfmnwmk",
    "outputId": "03437090-4b47-4272-d8c8-a8dbb5efeb2d"
   },
   "outputs": [
    {
     "name": "stdout",
     "output_type": "stream",
     "text": [
      "Epoch 1/60\n",
      "280/280 [==============================] - 66s 201ms/step - loss: 0.9669 - accuracy: 0.5883 - val_loss: 0.8335 - val_accuracy: 0.6096\n",
      "Epoch 2/60\n",
      "280/280 [==============================] - 57s 202ms/step - loss: 1.0143 - accuracy: 0.6108 - val_loss: 0.7571 - val_accuracy: 0.6417\n",
      "Epoch 3/60\n",
      "280/280 [==============================] - 58s 205ms/step - loss: 0.8981 - accuracy: 0.6259 - val_loss: 0.7772 - val_accuracy: 0.6341\n",
      "Epoch 4/60\n",
      "280/280 [==============================] - 58s 205ms/step - loss: 0.8250 - accuracy: 0.6424 - val_loss: 0.8062 - val_accuracy: 0.6208\n",
      "Epoch 5/60\n",
      "280/280 [==============================] - 57s 205ms/step - loss: 0.8872 - accuracy: 0.6479 - val_loss: 1.0279 - val_accuracy: 0.5914\n",
      "Epoch 6/60\n",
      "280/280 [==============================] - 52s 184ms/step - loss: 0.7780 - accuracy: 0.6617 - val_loss: 0.6995 - val_accuracy: 0.6477\n",
      "Epoch 7/60\n",
      "280/280 [==============================] - ETA: 0s - loss: 0.9712 - accuracy: 0.6402\n",
      "\n",
      "\n",
      "Validation accuracy reached 65.96%. Training is Stopped.\n",
      "280/280 [==============================] - 51s 182ms/step - loss: 0.9712 - accuracy: 0.6402 - val_loss: 0.7764 - val_accuracy: 0.6596\n"
     ]
    }
   ],
   "source": [
    "history = XCEPTION_DFDI.fit(train_set,\n",
    "                            validation_data = valid_set,\n",
    "                            epochs = 60,\n",
    "                            callbacks = [custom_callback])"
   ]
  },
  {
   "cell_type": "markdown",
   "metadata": {},
   "source": [
    "## Evalutation of the Model"
   ]
  },
  {
   "cell_type": "code",
   "execution_count": 18,
   "metadata": {
    "colab": {
     "base_uri": "https://localhost:8080/"
    },
    "id": "E0Oi0kEVK3Lm",
    "outputId": "c42cb44d-184d-4f53-a9e3-3a28b83f88af"
   },
   "outputs": [
    {
     "name": "stdout",
     "output_type": "stream",
     "text": [
      "100/100 [==============================] - 13s 126ms/step - loss: 0.7604 - accuracy: 0.6488\n"
     ]
    },
    {
     "data": {
      "text/plain": [
       "[0.7604125142097473, 0.6487500071525574]"
      ]
     },
     "execution_count": 18,
     "metadata": {},
     "output_type": "execute_result"
    }
   ],
   "source": [
    "XCEPTION_DFDI.evaluate(test_set)"
   ]
  },
  {
   "cell_type": "markdown",
   "metadata": {},
   "source": [
    "## Plotting the Curves"
   ]
  },
  {
   "cell_type": "code",
   "execution_count": 19,
   "metadata": {
    "colab": {
     "base_uri": "https://localhost:8080/",
     "height": 472
    },
    "id": "ziocaSu2lGP1",
    "outputId": "7f6db79b-3fb1-4e73-d24c-83dfc4ec3be9"
   },
   "outputs": [
    {
     "data": {
      "image/png": "[encoded data removed]",
      "text/plain": [
       "<Figure size 640x480 with 1 Axes>"
      ]
     },
     "metadata": {},
     "output_type": "display_data"
    }
   ],
   "source": [
    "acc = history.history['accuracy']\n",
    "val_acc = history.history['val_accuracy']\n",
    "epochs_range = range(1, len(history.epoch) + 1)\n",
    "plt.plot(epochs_range, acc, label = 'Training Accuracy')\n",
    "plt.plot(epochs_range, val_acc, label = 'Validation Accuracy')\n",
    "plt.xlabel('No. of Epochs')\n",
    "plt.ylabel('Accuracy')\n",
    "plt.title('Training Vs Validation Accuracy')\n",
    "plt.legend()\n",
    "plt.show()"
   ]
  },
  {
   "cell_type": "code",
   "execution_count": 20,
   "metadata": {
    "colab": {
     "base_uri": "https://localhost:8080/",
     "height": 472
    },
    "id": "NaccM5zPlJ4V",
    "outputId": "e73e908f-0224-4d2b-a9d9-db7b7dd34bd7"
   },
   "outputs": [
    {
     "data": {
      "image/png": "[encoded data removed]",
      "text/plain": [
       "<Figure size 640x480 with 1 Axes>"
      ]
     },
     "metadata": {},
     "output_type": "display_data"
    }
   ],
   "source": [
    "loss = history.history['loss']\n",
    "val_loss = history.history['val_loss']\n",
    "plt.plot(epochs_range, loss, label = 'Training Loss')\n",
    "plt.plot(epochs_range, val_loss, label = 'Validation Loss')\n",
    "plt.xlabel('No. of Epochs')\n",
    "plt.ylabel('Loss')\n",
    "plt.title('Training Vs Validation Loss')\n",
    "plt.legend()\n",
    "plt.show()"
   ]
  }
 ],
 "metadata": {
  "accelerator": "GPU",
  "colab": {
   "gpuType": "T4",
   "provenance": []
  },
  "kernelspec": {
   "display_name": "Python 3 (ipykernel)",
   "language": "python",
   "name": "python3"
  },
  "language_info": {
   "codemirror_mode": {
    "name": "ipython",
    "version": 3
   },
   "file_extension": ".py",
   "mimetype": "text/x-python",
   "name": "python",
   "nbconvert_exporter": "python",
   "pygments_lexer": "ipython3",
   "version": "3.11.5"
  }
 },
 "nbformat": 4,
 "nbformat_minor": 1
}
