{
 "cells": [
  {
   "cell_type": "markdown",
   "metadata": {},
   "source": [
    "# Enhancing Deep Fake Detection in Multimedia: A Fusion of CNN and RNN Approaches"
   ]
  },
  {
   "cell_type": "markdown",
   "metadata": {},
   "source": [
    "## Training the model using a custom-designed CNN Architecture"
   ]
  },
  {
   "cell_type": "markdown",
   "metadata": {},
   "source": [
    "A specialized CNN model is constructed with the purpose of detecting artificially generated media.\n",
    "\n",
    "To obtain references for this specific task, please follow the provided link: https://www.kaggle.com/code/krooz0/deep-fake-detection-on-images-and-videos"
   ]
  },
  {
   "cell_type": "markdown",
   "metadata": {},
   "source": [
    "## Importing the Libraries"
   ]
  },
  {
   "cell_type": "code",
   "execution_count": 1,
   "metadata": {
    "id": "vps1G5IFsiKz"
   },
   "outputs": [],
   "source": [
    "import os\n",
    "import cv2\n",
    "import sklearn\n",
    "import numpy as np\n",
    "import pandas as pd\n",
    "import tensorflow as tf\n",
    "import plotly.graph_objs as go\n",
    "from plotly.offline import iplot\n",
    "from matplotlib import pyplot as plt\n",
    "from sklearn.model_selection import train_test_split\n",
    "from tensorflow.keras.layers import Conv2D, MaxPooling2D, Flatten, Dense, Dropout"
   ]
  },
  {
   "cell_type": "markdown",
   "metadata": {},
   "source": [
    "## About Dataset"
   ]
  },
  {
   "cell_type": "markdown",
   "metadata": {},
   "source": [
    "The dataset is obtained from Kaggle, and you can access it by visiting the provided link: https://www.kaggle.com/datasets/dagnelies/deepfake-faces\n",
    "\n",
    "The dataset comprises two components: a metadata CSV file and a \"faces_224\" folder. The metadata.csv file contains information about each image within the \"faces_224\" folder, specifically indicating whether an image is classified as \"Real\" or \"Fake.\" The \"videoname\" column in the metadata file lists the names of the images corresponding to the ones in the \"faces_224\" folder. Additionally, the \"label\" column specifies the class to which each image belongs, either \"Fake\" or \"Real.\""
   ]
  },
  {
   "cell_type": "code",
   "execution_count": 2,
   "metadata": {
    "colab": {
     "base_uri": "https://localhost:8080/",
     "height": 206
    },
    "id": "EHTN2bVlvyFp",
    "outputId": "734f0b03-4f0a-4ee9-e047-afe9eeb0ca2c"
   },
   "outputs": [
    {
     "data": {
      "text/html": [
       "\n",
       "  <div id=\"df-7faf9e7e-2f83-46b3-8f57-eb7164091b0a\" class=\"colab-df-container\">\n",
       "    <div>\n",
       "<style scoped>\n",
       "    .dataframe tbody tr th:only-of-type {\n",
       "        vertical-align: middle;\n",
       "    }\n",
       "\n",
       "    .dataframe tbody tr th {\n",
       "        vertical-align: top;\n",
       "    }\n",
       "\n",
       "    .dataframe thead th {\n",
       "        text-align: right;\n",
       "    }\n",
       "</style>\n",
       "<table border=\"1\" class=\"dataframe\">\n",
       "  <thead>\n",
       "    <tr style=\"text-align: right;\">\n",
       "      <th></th>\n",
       "      <th>videoname</th>\n",
       "      <th>original_width</th>\n",
       "      <th>original_height</th>\n",
       "      <th>label</th>\n",
       "      <th>original</th>\n",
       "    </tr>\n",
       "  </thead>\n",
       "  <tbody>\n",
       "    <tr>\n",
       "      <th>0</th>\n",
       "      <td>aznyksihgl.mp4</td>\n",
       "      <td>129</td>\n",
       "      <td>129</td>\n",
       "      <td>FAKE</td>\n",
       "      <td>xnojggkrxt.mp4</td>\n",
       "    </tr>\n",
       "    <tr>\n",
       "      <th>1</th>\n",
       "      <td>gkwmalrvcj.mp4</td>\n",
       "      <td>129</td>\n",
       "      <td>129</td>\n",
       "      <td>FAKE</td>\n",
       "      <td>hqqmtxvbjj.mp4</td>\n",
       "    </tr>\n",
       "    <tr>\n",
       "      <th>2</th>\n",
       "      <td>lxnqzocgaq.mp4</td>\n",
       "      <td>223</td>\n",
       "      <td>217</td>\n",
       "      <td>FAKE</td>\n",
       "      <td>xjzkfqddyk.mp4</td>\n",
       "    </tr>\n",
       "    <tr>\n",
       "      <th>3</th>\n",
       "      <td>itsbtrrelv.mp4</td>\n",
       "      <td>186</td>\n",
       "      <td>186</td>\n",
       "      <td>FAKE</td>\n",
       "      <td>kqvepwqxfe.mp4</td>\n",
       "    </tr>\n",
       "    <tr>\n",
       "      <th>4</th>\n",
       "      <td>ddvgrczjno.mp4</td>\n",
       "      <td>155</td>\n",
       "      <td>155</td>\n",
       "      <td>FAKE</td>\n",
       "      <td>pluadmqqta.mp4</td>\n",
       "    </tr>\n",
       "  </tbody>\n",
       "</table>\n",
       "</div>\n",
       "    <div class=\"colab-df-buttons\">\n",
       "\n",
       "  <div class=\"colab-df-container\">\n",
       "    <button class=\"colab-df-convert\" onclick=\"convertToInteractive('df-7faf9e7e-2f83-46b3-8f57-eb7164091b0a')\"\n",
       "            title=\"Convert this dataframe to an interactive table.\"\n",
       "            style=\"display:none;\">\n",
       "\n",
       "  <svg xmlns=\"http://www.w3.org/2000/svg\" height=\"24px\" viewBox=\"0 -960 960 960\">\n",
       "    <path d=\"M120-120v-720h720v720H120Zm60-500h600v-160H180v160Zm220 220h160v-160H400v160Zm0 220h160v-160H400v160ZM180-400h160v-160H180v160Zm440 0h160v-160H620v160ZM180-180h160v-160H180v160Zm440 0h160v-160H620v160Z\"/>\n",
       "  </svg>\n",
       "    </button>\n",
       "\n",
       "  <style>\n",
       "    .colab-df-container {\n",
       "      display:flex;\n",
       "      gap: 12px;\n",
       "    }\n",
       "\n",
       "    .colab-df-convert {\n",
       "      background-color: #E8F0FE;\n",
       "      border: none;\n",
       "      border-radius: 50%;\n",
       "      cursor: pointer;\n",
       "      display: none;\n",
       "      fill: #1967D2;\n",
       "      height: 32px;\n",
       "      padding: 0 0 0 0;\n",
       "      width: 32px;\n",
       "    }\n",
       "\n",
       "    .colab-df-convert:hover {\n",
       "      background-color: #E2EBFA;\n",
       "      box-shadow: 0px 1px 2px rgba(60, 64, 67, 0.3), 0px 1px 3px 1px rgba(60, 64, 67, 0.15);\n",
       "      fill: #174EA6;\n",
       "    }\n",
       "\n",
       "    .colab-df-buttons div {\n",
       "      margin-bottom: 4px;\n",
       "    }\n",
       "\n",
       "    [theme=dark] .colab-df-convert {\n",
       "      background-color: #3B4455;\n",
       "      fill: #D2E3FC;\n",
       "    }\n",
       "\n",
       "    [theme=dark] .colab-df-convert:hover {\n",
       "      background-color: #434B5C;\n",
       "      box-shadow: 0px 1px 3px 1px rgba(0, 0, 0, 0.15);\n",
       "      filter: drop-shadow(0px 1px 2px rgba(0, 0, 0, 0.3));\n",
       "      fill: #FFFFFF;\n",
       "    }\n",
       "  </style>\n",
       "\n",
       "    <script>\n",
       "      const buttonEl =\n",
       "        document.querySelector('#df-7faf9e7e-2f83-46b3-8f57-eb7164091b0a button.colab-df-convert');\n",
       "      buttonEl.style.display =\n",
       "        google.colab.kernel.accessAllowed ? 'block' : 'none';\n",
       "\n",
       "      async function convertToInteractive(key) {\n",
       "        const element = document.querySelector('#df-7faf9e7e-2f83-46b3-8f57-eb7164091b0a');\n",
       "        const dataTable =\n",
       "          await google.colab.kernel.invokeFunction('convertToInteractive',\n",
       "                                                    [key], {});\n",
       "        if (!dataTable) return;\n",
       "\n",
       "        const docLinkHtml = 'Like what you see? Visit the ' +\n",
       "          '<a target=\"_blank\" href=https://colab.research.google.com/notebooks/data_table.ipynb>data table notebook</a>'\n",
       "          + ' to learn more about interactive tables.';\n",
       "        element.innerHTML = '';\n",
       "        dataTable['output_type'] = 'display_data';\n",
       "        await google.colab.output.renderOutput(dataTable, element);\n",
       "        const docLink = document.createElement('div');\n",
       "        docLink.innerHTML = docLinkHtml;\n",
       "        element.appendChild(docLink);\n",
       "      }\n",
       "    </script>\n",
       "  </div>\n",
       "\n",
       "\n",
       "<div id=\"df-1d76590a-5c09-4557-8332-2d6c67c3ce3f\">\n",
       "  <button class=\"colab-df-quickchart\" onclick=\"quickchart('df-1d76590a-5c09-4557-8332-2d6c67c3ce3f')\"\n",
       "            title=\"Suggest charts\"\n",
       "            style=\"display:none;\">\n",
       "\n",
       "<svg xmlns=\"http://www.w3.org/2000/svg\" height=\"24px\"viewBox=\"0 0 24 24\"\n",
       "     width=\"24px\">\n",
       "    <g>\n",
       "        <path d=\"M19 3H5c-1.1 0-2 .9-2 2v14c0 1.1.9 2 2 2h14c1.1 0 2-.9 2-2V5c0-1.1-.9-2-2-2zM9 17H7v-7h2v7zm4 0h-2V7h2v10zm4 0h-2v-4h2v4z\"/>\n",
       "    </g>\n",
       "</svg>\n",
       "  </button>\n",
       "\n",
       "<style>\n",
       "  .colab-df-quickchart {\n",
       "      --bg-color: #E8F0FE;\n",
       "      --fill-color: #1967D2;\n",
       "      --hover-bg-color: #E2EBFA;\n",
       "      --hover-fill-color: #174EA6;\n",
       "      --disabled-fill-color: #AAA;\n",
       "      --disabled-bg-color: #DDD;\n",
       "  }\n",
       "\n",
       "  [theme=dark] .colab-df-quickchart {\n",
       "      --bg-color: #3B4455;\n",
       "      --fill-color: #D2E3FC;\n",
       "      --hover-bg-color: #434B5C;\n",
       "      --hover-fill-color: #FFFFFF;\n",
       "      --disabled-bg-color: #3B4455;\n",
       "      --disabled-fill-color: #666;\n",
       "  }\n",
       "\n",
       "  .colab-df-quickchart {\n",
       "    background-color: var(--bg-color);\n",
       "    border: none;\n",
       "    border-radius: 50%;\n",
       "    cursor: pointer;\n",
       "    display: none;\n",
       "    fill: var(--fill-color);\n",
       "    height: 32px;\n",
       "    padding: 0;\n",
       "    width: 32px;\n",
       "  }\n",
       "\n",
       "  .colab-df-quickchart:hover {\n",
       "    background-color: var(--hover-bg-color);\n",
       "    box-shadow: 0 1px 2px rgba(60, 64, 67, 0.3), 0 1px 3px 1px rgba(60, 64, 67, 0.15);\n",
       "    fill: var(--button-hover-fill-color);\n",
       "  }\n",
       "\n",
       "  .colab-df-quickchart-complete:disabled,\n",
       "  .colab-df-quickchart-complete:disabled:hover {\n",
       "    background-color: var(--disabled-bg-color);\n",
       "    fill: var(--disabled-fill-color);\n",
       "    box-shadow: none;\n",
       "  }\n",
       "\n",
       "  .colab-df-spinner {\n",
       "    border: 2px solid var(--fill-color);\n",
       "    border-color: transparent;\n",
       "    border-bottom-color: var(--fill-color);\n",
       "    animation:\n",
       "      spin 1s steps(1) infinite;\n",
       "  }\n",
       "\n",
       "  @keyframes spin {\n",
       "    0% {\n",
       "      border-color: transparent;\n",
       "      border-bottom-color: var(--fill-color);\n",
       "      border-left-color: var(--fill-color);\n",
       "    }\n",
       "    20% {\n",
       "      border-color: transparent;\n",
       "      border-left-color: var(--fill-color);\n",
       "      border-top-color: var(--fill-color);\n",
       "    }\n",
       "    30% {\n",
       "      border-color: transparent;\n",
       "      border-left-color: var(--fill-color);\n",
       "      border-top-color: var(--fill-color);\n",
       "      border-right-color: var(--fill-color);\n",
       "    }\n",
       "    40% {\n",
       "      border-color: transparent;\n",
       "      border-right-color: var(--fill-color);\n",
       "      border-top-color: var(--fill-color);\n",
       "    }\n",
       "    60% {\n",
       "      border-color: transparent;\n",
       "      border-right-color: var(--fill-color);\n",
       "    }\n",
       "    80% {\n",
       "      border-color: transparent;\n",
       "      border-right-color: var(--fill-color);\n",
       "      border-bottom-color: var(--fill-color);\n",
       "    }\n",
       "    90% {\n",
       "      border-color: transparent;\n",
       "      border-bottom-color: var(--fill-color);\n",
       "    }\n",
       "  }\n",
       "</style>\n",
       "\n",
       "  <script>\n",
       "    async function quickchart(key) {\n",
       "      const quickchartButtonEl =\n",
       "        document.querySelector('#' + key + ' button');\n",
       "      quickchartButtonEl.disabled = true;  // To prevent multiple clicks.\n",
       "      quickchartButtonEl.classList.add('colab-df-spinner');\n",
       "      try {\n",
       "        const charts = await google.colab.kernel.invokeFunction(\n",
       "            'suggestCharts', [key], {});\n",
       "      } catch (error) {\n",
       "        console.error('Error during call to suggestCharts:', error);\n",
       "      }\n",
       "      quickchartButtonEl.classList.remove('colab-df-spinner');\n",
       "      quickchartButtonEl.classList.add('colab-df-quickchart-complete');\n",
       "    }\n",
       "    (() => {\n",
       "      let quickchartButtonEl =\n",
       "        document.querySelector('#df-1d76590a-5c09-4557-8332-2d6c67c3ce3f button');\n",
       "      quickchartButtonEl.style.display =\n",
       "        google.colab.kernel.accessAllowed ? 'block' : 'none';\n",
       "    })();\n",
       "  </script>\n",
       "</div>\n",
       "\n",
       "    </div>\n",
       "  </div>\n"
      ],
      "text/plain": [
       "        videoname  original_width  original_height label        original\n",
       "0  aznyksihgl.mp4             129              129  FAKE  xnojggkrxt.mp4\n",
       "1  gkwmalrvcj.mp4             129              129  FAKE  hqqmtxvbjj.mp4\n",
       "2  lxnqzocgaq.mp4             223              217  FAKE  xjzkfqddyk.mp4\n",
       "3  itsbtrrelv.mp4             186              186  FAKE  kqvepwqxfe.mp4\n",
       "4  ddvgrczjno.mp4             155              155  FAKE  pluadmqqta.mp4"
      ]
     },
     "execution_count": 2,
     "metadata": {},
     "output_type": "execute_result"
    }
   ],
   "source": [
    "def get_data():\n",
    "    return pd.read_csv('/Path/metadata.csv')\n",
    "meta = get_data()\n",
    "meta.head()"
   ]
  },
  {
   "cell_type": "code",
   "execution_count": 3,
   "metadata": {
    "colab": {
     "base_uri": "https://localhost:8080/"
    },
    "id": "jtc7T7OrkAg9",
    "outputId": "1a6643ef-b458-401e-fbb6-4d88a21c4b7a"
   },
   "outputs": [
    {
     "name": "stdout",
     "output_type": "stream",
     "text": [
      "Total Number of rows in the Metadata set: 95634\n",
      "The total number of 'REAL' samples in faces_224 folder: 16293\n",
      "The total number of 'FAKE' samples in faces_224 folder: 79341\n"
     ]
    }
   ],
   "source": [
    "shape = meta.shape\n",
    "print(f\"Total Number of rows in the Metadata set: {shape[0]}\")\n",
    "\n",
    "len_FAKE = len(meta[meta.label == 'FAKE'])\n",
    "len_REAL = len(meta[meta.label == 'REAL'])\n",
    "\n",
    "print(f\"The total number of 'REAL' samples in faces_224 folder: {len_REAL}\")\n",
    "print(f\"The total number of 'FAKE' samples in faces_224 folder: {len_FAKE}\")"
   ]
  },
  {
   "cell_type": "code",
   "execution_count": 4,
   "metadata": {
    "id": "DMgFbLI6kDv7"
   },
   "outputs": [],
   "source": [
    "real_labels = meta[meta[\"label\"] == \"REAL\"]\n",
    "fake_labels = meta[meta[\"label\"] == \"FAKE\"]\n",
    "\n",
    "#Creating a sample size of 8000 images in each Real and Fake classes, in total of 16000 images\n",
    "sample_size = 8000\n",
    "\n",
    "real_labels = real_labels.sample(sample_size)\n",
    "fake_labels = fake_labels.sample(sample_size)\n",
    "\n",
    "sample_metadata = pd.concat([real_labels, fake_labels])"
   ]
  },
  {
   "cell_type": "markdown",
   "metadata": {},
   "source": [
    "Given the prevalence of more Fake images compared to Real images, we opt for undersampling to address the imbalanced dataset. In this approach, we create a balanced sample with a total size of 16000, evenly distributing 8000 images for each class."
   ]
  },
  {
   "cell_type": "code",
   "execution_count": 5,
   "metadata": {
    "colab": {
     "base_uri": "https://localhost:8080/"
    },
    "id": "o-7AIKaEkFWI",
    "outputId": "b8b502e1-5861-442c-9d44-05481611ff31"
   },
   "outputs": [
    {
     "name": "stdout",
     "output_type": "stream",
     "text": [
      "Number of samples in Training Set: 12800\n",
      "Number of samples in Testing Set: 3200\n"
     ]
    }
   ],
   "source": [
    "Training_set, Testing_set = train_test_split(sample_metadata,\n",
    "                                             test_size = 0.2,\n",
    "                                             stratify = sample_metadata['label'])\n",
    "\n",
    "print(\"Number of samples in Training Set:\", len(Training_set))\n",
    "print(\"Number of samples in Testing Set:\", len(Testing_set))"
   ]
  },
  {
   "cell_type": "markdown",
   "metadata": {},
   "source": [
    "Partitioning the dataset into training and testing sets involves the creation of a \"Training_set\" and a \"Testing_set\". The \"Testing_set\" is composed of 3200 images, accounting for 20% of the entire 16000-image dataset, as specified by the test size of 0.2 during the splitting process."
   ]
  },
  {
   "cell_type": "markdown",
   "metadata": {},
   "source": [
    "## Combining the Dataset"
   ]
  },
  {
   "cell_type": "markdown",
   "metadata": {},
   "source": [
    "This code is responsible for creating image datasets (X_train, X_test) along with their respective labels (y_train, y_test) using the provided training and testing datasets (Training_set, Testing_set). The procedure involves reading images, converting them into numpy arrays, and assigning labels based on the 'label' column extracted from the metadata.csv file. The label encoding strategy designates 0 for 'REAL' and 1 for 'FAKE'.\n",
    "\n",
    "This crucial step is aimed at training the model with images and their corresponding labels (i.e., Real or Fake). The \"load_dataset\" method is employed for this purpose."
   ]
  },
  {
   "cell_type": "code",
   "execution_count": 6,
   "metadata": {
    "id": "1asq4lYLv_Uy"
   },
   "outputs": [],
   "source": [
    "def load_dataset(set_name):\n",
    "    images = []\n",
    "    labels = []\n",
    "    for index, row in set_name.iterrows():\n",
    "        img_path = os.path.join('/Path/faces_224',\n",
    "                                row['videoname'][:-4] + '.jpg')\n",
    "\n",
    "        img = cv2.imread(img_path)\n",
    "        images.append(img)\n",
    "        labels.append(0 if row['label'] == 'REAL' else 1)\n",
    "    return np.array(images), np.array(labels)"
   ]
  },
  {
   "cell_type": "code",
   "execution_count": 7,
   "metadata": {
    "id": "4j2Rlts1ePyX"
   },
   "outputs": [],
   "source": [
    "X_train, y_train = load_dataset(Training_set)\n",
    "X_test, y_test = load_dataset(Testing_set)"
   ]
  },
  {
   "cell_type": "markdown",
   "metadata": {},
   "source": [
    "## Building the CNN Architecture"
   ]
  },
  {
   "cell_type": "markdown",
   "metadata": {},
   "source": [
    "This model processes input images with dimensions of 224x224 pixels."
   ]
  },
  {
   "cell_type": "code",
   "execution_count": 8,
   "metadata": {
    "id": "D2ILA52Dfqss"
   },
   "outputs": [],
   "source": [
    "input_shape = (224, 224, 3)"
   ]
  },
  {
   "cell_type": "code",
   "execution_count": 9,
   "metadata": {
    "id": "WtppvhPufrwc"
   },
   "outputs": [],
   "source": [
    "DFDI = tf.keras.models.Sequential()\n",
    "\n",
    "##DFDI Stands for \"Deep Fake Detection Image\""
   ]
  },
  {
   "cell_type": "markdown",
   "metadata": {},
   "source": [
    "## Batch 1"
   ]
  },
  {
   "cell_type": "markdown",
   "metadata": {},
   "source": [
    "Two convolutional layers are employed, each featuring 64 filters with a kernel size of 2. Additionally, a max-pooling layer with a kernel size of 2 is included."
   ]
  },
  {
   "cell_type": "code",
   "execution_count": 10,
   "metadata": {
    "id": "01AuR33yftAW"
   },
   "outputs": [],
   "source": [
    "DFDI.add(Conv2D(64, (2, 2), input_shape = input_shape, activation = 'relu',\n",
    "                kernel_initializer = \"he_normal\", padding = \"same\"))\n",
    "\n",
    "DFDI.add(Conv2D(64, (2, 2), input_shape = input_shape, activation = 'relu',\n",
    "                kernel_initializer = \"he_normal\", padding = \"same\"))\n",
    "\n",
    "DFDI.add(MaxPooling2D(2, 2))"
   ]
  },
  {
   "cell_type": "markdown",
   "metadata": {},
   "source": [
    "## Batch 2"
   ]
  },
  {
   "cell_type": "markdown",
   "metadata": {},
   "source": [
    "Two convolutional layers are employed, each featuring 128 filters with a kernel size of 3. Additionally, a max-pooling layer with a kernel size of 2 is included."
   ]
  },
  {
   "cell_type": "code",
   "execution_count": 11,
   "metadata": {
    "id": "GOPXXZITftzV"
   },
   "outputs": [],
   "source": [
    "DFDI.add(Conv2D(128, (3, 3), input_shape = input_shape, activation = 'relu',\n",
    "                kernel_initializer = \"he_normal\", padding = \"same\"))\n",
    "\n",
    "DFDI.add(Conv2D(128, (3, 3), input_shape = input_shape, activation = 'relu',\n",
    "                kernel_initializer = \"he_normal\", padding = \"same\"))\n",
    "\n",
    "DFDI.add(MaxPooling2D(2, 2))"
   ]
  },
  {
   "cell_type": "markdown",
   "metadata": {},
   "source": [
    "## Flattening Layer"
   ]
  },
  {
   "cell_type": "code",
   "execution_count": 12,
   "metadata": {
    "id": "dCMLQPz6fuzb"
   },
   "outputs": [],
   "source": [
    "DFDI.add(Flatten())"
   ]
  },
  {
   "cell_type": "markdown",
   "metadata": {},
   "source": [
    "## ANN Architecture"
   ]
  },
  {
   "cell_type": "markdown",
   "metadata": {},
   "source": [
    "The structure of the Artificial Neural Network includes layers with the following neuron counts: 512, 256, a dropout layer, 128, and 64, each utilizing the ReLU activation function. The final layer comprises 1 neuron with the \"Sigmoid\" activation function.\n",
    "\n",
    "The dropout layer is used in neural networks as a regularization technique to prevent overfitting."
   ]
  },
  {
   "cell_type": "code",
   "execution_count": 13,
   "metadata": {
    "id": "M80-E7EcfvnW"
   },
   "outputs": [],
   "source": [
    "DFDI.add(Dense(512, activation = 'relu', kernel_initializer = \"he_normal\"))\n",
    "DFDI.add(Dense(256, activation = 'relu', kernel_initializer = \"he_normal\"))\n",
    "\n",
    "# Dropout layer with droupout rate set to 0.5\n",
    "DFDI.add(Dropout(0.5))\n",
    "DFDI.add(Dense(128, activation = 'relu', kernel_initializer = \"he_normal\"))\n",
    "DFDI.add(Dense(64, activation = 'relu', kernel_initializer = \"he_normal\"))\n",
    "\n",
    "DFDI.add(Dense(units = 1, activation = 'sigmoid'))\n",
    "\n",
    "# Compiling the Neural Network\n",
    "DFDI.compile(loss = 'binary_crossentropy', optimizer = \"adam\", metrics = ['accuracy'])"
   ]
  },
  {
   "cell_type": "markdown",
   "metadata": {},
   "source": [
    "## Model Summary"
   ]
  },
  {
   "cell_type": "code",
   "execution_count": 14,
   "metadata": {
    "colab": {
     "base_uri": "https://localhost:8080/"
    },
    "id": "DLW4nYv3fwmC",
    "outputId": "42984070-33c1-4b59-ffa1-22c86cf448d9"
   },
   "outputs": [
    {
     "name": "stdout",
     "output_type": "stream",
     "text": [
      "Model: \"sequential\"\n",
      "_________________________________________________________________\n",
      " Layer (type)                Output Shape              Param #   \n",
      "=================================================================\n",
      " conv2d (Conv2D)             (None, 224, 224, 64)      832       \n",
      "                                                                 \n",
      " conv2d_1 (Conv2D)           (None, 224, 224, 64)      16448     \n",
      "                                                                 \n",
      " max_pooling2d (MaxPooling2  (None, 112, 112, 64)      0         \n",
      " D)                                                              \n",
      "                                                                 \n",
      " conv2d_2 (Conv2D)           (None, 112, 112, 128)     73856     \n",
      "                                                                 \n",
      " conv2d_3 (Conv2D)           (None, 112, 112, 128)     147584    \n",
      "                                                                 \n",
      " max_pooling2d_1 (MaxPoolin  (None, 56, 56, 128)       0         \n",
      " g2D)                                                            \n",
      "                                                                 \n",
      " flatten (Flatten)           (None, 401408)            0         \n",
      "                                                                 \n",
      " dense (Dense)               (None, 512)               205521408 \n",
      "                                                                 \n",
      " dense_1 (Dense)             (None, 256)               131328    \n",
      "                                                                 \n",
      " dropout (Dropout)           (None, 256)               0         \n",
      "                                                                 \n",
      " dense_2 (Dense)             (None, 128)               32896     \n",
      "                                                                 \n",
      " dense_3 (Dense)             (None, 64)                8256      \n",
      "                                                                 \n",
      " dense_4 (Dense)             (None, 1)                 65        \n",
      "                                                                 \n",
      "=================================================================\n",
      "Total params: 205932673 (785.57 MB)\n",
      "Trainable params: 205932673 (785.57 MB)\n",
      "Non-trainable params: 0 (0.00 Byte)\n",
      "_________________________________________________________________\n"
     ]
    }
   ],
   "source": [
    "DFDI.summary()"
   ]
  },
  {
   "cell_type": "markdown",
   "metadata": {},
   "source": [
    "## Training the Model"
   ]
  },
  {
   "cell_type": "markdown",
   "metadata": {},
   "source": [
    "The model is trained using a dataset of size 16,000 for a total of 400 batches throughout 15 epochs, employing a batch size of 32."
   ]
  },
  {
   "cell_type": "code",
   "execution_count": 15,
   "metadata": {
    "colab": {
     "base_uri": "https://localhost:8080/"
    },
    "id": "t2IR0Cjpf174",
    "outputId": "436076a0-ae71-4b2d-f2d5-2e2f8e70387f"
   },
   "outputs": [
    {
     "name": "stdout",
     "output_type": "stream",
     "text": [
      "Epoch 1/15\n",
      "400/400 [==============================] - 114s 254ms/step - loss: 126.8326 - accuracy: 0.4952 - val_loss: 0.6933 - val_accuracy: 0.5013\n",
      "Epoch 2/15\n",
      "400/400 [==============================] - 102s 256ms/step - loss: 0.7169 - accuracy: 0.5004 - val_loss: 0.6915 - val_accuracy: 0.5006\n",
      "Epoch 3/15\n",
      "400/400 [==============================] - 108s 269ms/step - loss: 0.6929 - accuracy: 0.5032 - val_loss: 0.6918 - val_accuracy: 0.5022\n",
      "Epoch 4/15\n",
      "400/400 [==============================] - 104s 259ms/step - loss: 0.6928 - accuracy: 0.5038 - val_loss: 0.6920 - val_accuracy: 0.5022\n",
      "Epoch 5/15\n",
      "400/400 [==============================] - 104s 259ms/step - loss: 0.6913 - accuracy: 0.5041 - val_loss: 0.6913 - val_accuracy: 0.5000\n",
      "Epoch 6/15\n",
      "400/400 [==============================] - 108s 270ms/step - loss: 0.6925 - accuracy: 0.4973 - val_loss: 0.6962 - val_accuracy: 0.5022\n",
      "Epoch 7/15\n",
      "400/400 [==============================] - 104s 259ms/step - loss: 0.6915 - accuracy: 0.4991 - val_loss: 0.6911 - val_accuracy: 0.4997\n",
      "Epoch 8/15\n",
      "400/400 [==============================] - 108s 270ms/step - loss: 0.6903 - accuracy: 0.5066 - val_loss: 0.6914 - val_accuracy: 0.5003\n",
      "Epoch 9/15\n",
      "400/400 [==============================] - 104s 259ms/step - loss: 0.6901 - accuracy: 0.5023 - val_loss: 0.6910 - val_accuracy: 0.5022\n",
      "Epoch 10/15\n",
      "400/400 [==============================] - 104s 259ms/step - loss: 0.6899 - accuracy: 0.5093 - val_loss: 0.6911 - val_accuracy: 0.5031\n",
      "Epoch 11/15\n",
      "400/400 [==============================] - 108s 270ms/step - loss: 0.6999 - accuracy: 0.5005 - val_loss: 0.6913 - val_accuracy: 0.4997\n",
      "Epoch 12/15\n",
      "400/400 [==============================] - 104s 259ms/step - loss: 0.6999 - accuracy: 0.5053 - val_loss: 0.6959 - val_accuracy: 0.5022\n",
      "Epoch 13/15\n",
      "400/400 [==============================] - 104s 259ms/step - loss: 0.6925 - accuracy: 0.5020 - val_loss: 0.6913 - val_accuracy: 0.5038\n",
      "Epoch 14/15\n",
      "400/400 [==============================] - 104s 259ms/step - loss: 0.6923 - accuracy: 0.5035 - val_loss: 0.6910 - val_accuracy: 0.4997\n",
      "Epoch 15/15\n",
      "400/400 [==============================] - 108s 270ms/step - loss: 0.7008 - accuracy: 0.5020 - val_loss: 0.6922 - val_accuracy: 0.5013\n"
     ]
    }
   ],
   "source": [
    "batch_size = 32\n",
    "\n",
    "history = DFDI.fit(X_train,\n",
    "                   y_train,\n",
    "                   epochs = 15,\n",
    "                   steps_per_epoch = len(X_train) // batch_size,\n",
    "                   validation_data = (X_test, y_test),\n",
    "                   validation_steps=len(X_test) // batch_size,\n",
    "                   )"
   ]
  },
  {
   "cell_type": "markdown",
   "metadata": {},
   "source": [
    "## Evalutation of the Model"
   ]
  },
  {
   "cell_type": "code",
   "execution_count": 16,
   "metadata": {
    "colab": {
     "base_uri": "https://localhost:8080/"
    },
    "id": "KYcRfUL2JYmG",
    "outputId": "c265a543-e4c9-49ec-b48c-512df9a6789d"
   },
   "outputs": [
    {
     "name": "stdout",
     "output_type": "stream",
     "text": [
      "100/100 [==============================] - 6s 56ms/step - loss: 0.6922 - accuracy: 0.5013\n"
     ]
    },
    {
     "data": {
      "text/plain": [
       "[0.6921943426132202, 0.5012500286102295]"
      ]
     },
     "execution_count": 16,
     "metadata": {},
     "output_type": "execute_result"
    }
   ],
   "source": [
    "DFDI.evaluate(X_test, y_test)"
   ]
  },
  {
   "cell_type": "markdown",
   "metadata": {},
   "source": [
    "## Plotting the Curves"
   ]
  },
  {
   "cell_type": "code",
   "execution_count": 17,
   "metadata": {
    "colab": {
     "base_uri": "https://localhost:8080/",
     "height": 472
    },
    "id": "0QKU4RcJf2s4",
    "outputId": "a8b4765a-2669-4ede-a0df-b4d815ce37f5"
   },
   "outputs": [
    {
     "data": {
      "image/png": "[encoded data removed]",
      "text/plain": [
       "<Figure size 640x480 with 1 Axes>"
      ]
     },
     "metadata": {},
     "output_type": "display_data"
    }
   ],
   "source": [
    "acc = history.history['accuracy']\n",
    "val_acc = history.history['val_accuracy']\n",
    "epochs_range = range(1, len(history.epoch) + 1)\n",
    "plt.plot(epochs_range, acc, label = 'Training Accuracy')\n",
    "plt.plot(epochs_range, val_acc, label = 'Validation Accuracy')\n",
    "plt.xlabel('No. of Epochs')\n",
    "plt.ylabel('Accuracy')\n",
    "plt.title('Training Vs Validation Accuracy')\n",
    "plt.legend()\n",
    "plt.show()"
   ]
  },
  {
   "cell_type": "code",
   "execution_count": 18,
   "metadata": {
    "colab": {
     "base_uri": "https://localhost:8080/",
     "height": 472
    },
    "id": "P4TutN9Vf3n0",
    "outputId": "31af5f4d-fb98-4d21-87b7-403a3c71e649"
   },
   "outputs": [
    {
     "data": {
      "image/png": "[encoded data removed]",
      "text/plain": [
       "<Figure size 640x480 with 1 Axes>"
      ]
     },
     "metadata": {},
     "output_type": "display_data"
    }
   ],
   "source": [
    "loss = history.history['loss']\n",
    "val_loss = history.history['val_loss']\n",
    "plt.plot(epochs_range, loss, label = 'Training Loss')\n",
    "plt.plot(epochs_range, val_loss, label = 'Validation Loss')\n",
    "plt.xlabel('No. of Epochs')\n",
    "plt.ylabel('Loss')\n",
    "plt.title('Training Vs Validation Loss')\n",
    "plt.legend()\n",
    "plt.show()"
   ]
  }
 ],
 "metadata": {
  "accelerator": "GPU",
  "colab": {
   "provenance": []
  },
  "kernelspec": {
   "display_name": "Python 3 (ipykernel)",
   "language": "python",
   "name": "python3"
  },
  "language_info": {
   "codemirror_mode": {
    "name": "ipython",
    "version": 3
   },
   "file_extension": ".py",
   "mimetype": "text/x-python",
   "name": "python",
   "nbconvert_exporter": "python",
   "pygments_lexer": "ipython3",
   "version": "3.9.18"
  }
 },
 "nbformat": 4,
 "nbformat_minor": 1
}
